{
 "cells": [
  {
   "cell_type": "markdown",
   "metadata": {},
   "source": [
    "# Using GPano.py"
   ]
  },
  {
   "cell_type": "code",
   "execution_count": null,
   "metadata": {},
   "outputs": [],
   "source": [
    "import sys  \n",
    "sys.path.insert(0, r'/media/huan/HD4T/Research/StreetView/Google_street_view')\n",
    "import GPano\n",
    "# import Fill_sidewalks as sw\n",
    "import pandas as pd\n",
    "import os\n",
    "import glob\n",
    "\n",
    "gpano = GPano.GPano()\n",
    "gsv = GPano.GSV_depthmap()\n",
    "\n",
    "\n",
    "def list_to_file(a_list, file_name):\n",
    "    with open(file_name, mode='w', encoding='utf-8') as myfile:\n",
    "        myfile.write('\\n'.join(a_list))\n",
    "        myfile.write('\\n')"
   ]
  },
  {
   "cell_type": "code",
   "execution_count": null,
   "metadata": {},
   "outputs": [],
   "source": [
    "panoId_map = r'/media/huan/SSD/Datasets/ocean_city/yolo/inference/rename.csv'\n",
    "depth_map_dir = r'/media/huan/SSD/Datasets/ocean_city/yolo/inference/depthmap'\n",
    "\n",
    "detected_dir = r'/media/huan/SSD/Datasets/ocean_city/yolo/inference/output'\n",
    "\n",
    "\n",
    "\n",
    "if not os.path.exists(depth_map_dir):\n",
    "    os.mkdir(depth_map_dir)"
   ]
  },
  {
   "cell_type": "code",
   "execution_count": null,
   "metadata": {},
   "outputs": [],
   "source": [
    "panoId_file = r'/media/huan/SSD/Datasets/ocean_city/yolo/inference/rename.csv'"
   ]
  },
  {
   "cell_type": "code",
   "execution_count": null,
   "metadata": {},
   "outputs": [],
   "source": [
    "panoId_df = pd.read_csv(panoId_file)"
   ]
  },
  {
   "cell_type": "code",
   "execution_count": null,
   "metadata": {},
   "outputs": [],
   "source": [
    "panoId_dict = {}\n",
    "for idx, row in panoId_df.iterrows():\n",
    "    jpg = row['jpg']\n",
    "    panoId = row['panoid']\n",
    "    jpg_pos = panoId.find(\".jpg\")\n",
    "    panoId_dict[jpg] = panoId[:jpg_pos]\n",
    " "
   ]
  },
  {
   "cell_type": "code",
   "execution_count": null,
   "metadata": {},
   "outputs": [],
   "source": [
    "jpgs = glob.glob(os.path.join(detected_dir, \"*.jpg\"))\n",
    "distances = []\n",
    "for jpg in jpgs:\n",
    "    basename = os.path.basename(jpg)\n",
    "    panoId = panoId_dict[basename]\n",
    "#     jdata = gpano.getJsonfrmPanoID(panoId, dm=1, saved_path=depth_map_dir)\n",
    "#     dm = gsv.getDepthmapfrmJson(jdata)\n",
    "    \n",
    "    img = gsv.saveDepthMap_frm_panoId(panoId, saved_path=depth_map_dir)\n",
    "    shape = img.size\n",
    "#     print(img)\n",
    "    lowest_row = max(0, shape[1] - 1)\n",
    "    central_col = int(shape[0]/2)\n",
    "    print(lowest_row, central_col)\n",
    "    d = img.load()[central_col, lowest_row]\n",
    "    line = \",\".join([panoId, str(d)])\n",
    "    distances.append(line)"
   ]
  },
  {
   "cell_type": "code",
   "execution_count": null,
   "metadata": {},
   "outputs": [],
   "source": [
    "list_to_file(jpgs, os.path.join(r\"/media/huan/SSD/Datasets/ocean_city/yolo/inference/jpgs.txt\"))\n",
    "list_to_file([str(d) for d in distances], os.path.join(r\"/media/huan/SSD/Datasets/ocean_city/yolo/inference/distances.txt\"))"
   ]
  },
  {
   "cell_type": "markdown",
   "metadata": {},
   "source": [
    "# Calculate the height\n"
   ]
  },
  {
   "cell_type": "markdown",
   "metadata": {},
   "source": [
    "## rowcol_to_spherial\n"
   ]
  },
  {
   "cell_type": "code",
   "execution_count": 36,
   "metadata": {},
   "outputs": [],
   "source": [
    "from math import *\n",
    "\n",
    "def castesian_to_shperical(col, row, fov_h, height, width):  # yaw: set the heading, pitch\n",
    "    \"\"\"\n",
    "    Convert the row, col to the  spherical coordinates \n",
    "    :param row, cols: \n",
    "    :param fov_h:\n",
    "    :param height:\n",
    "    :param width:\n",
    "    :return:\n",
    "    \"\"\"\n",
    "     \n",
    "    col = col - width/2  # move the origin to center\n",
    "    row = height/2 -row\n",
    " \n",
    "    fov_v = atan((height * tan((fov_h / 2)) / width)) * 2\n",
    "     \n",
    "    \n",
    "    r = (width/2)/tan(fov_h/2)\n",
    "     \n",
    "    s = sqrt(col**2 + r**2)\n",
    "    \n",
    "    theta = atan(row/s)\n",
    "    phi = atan(col/r)\n",
    "    \n",
    "#     print(\"fov_v, r, s:\", fov_v, r, s)\n",
    "     \n",
    "    return phi, theta\n",
    "\n",
    " "
   ]
  },
  {
   "cell_type": "code",
   "execution_count": 30,
   "metadata": {},
   "outputs": [],
   "source": [
    "import glob\n",
    "import os\n",
    "from PIL import Image\n",
    "\n",
    "dets_dir = r'/media/huan/SSD/Datasets/ocean_city/yolo/inference/output'\n",
    "dets_txts = glob.glob(os.path.join(dets_dir, \"*.txt\"))\n"
   ]
  },
  {
   "cell_type": "code",
   "execution_count": 38,
   "metadata": {},
   "outputs": [
    {
     "name": "stdout",
     "output_type": "stream",
     "text": [
      "/media/huan/SSD/Datasets/ocean_city/yolo/inference/output/13785.txt\n",
      "/media/huan/SSD/Datasets/ocean_city/yolo/inference/output/13786.txt\n",
      "top_row, bottom_row, top_agl, bottom_agl: 1581.9994112 1779.9994368 (1.5707963267948966, 1.2163431229498649e-26) (1.5707963267948966, -1.720659806015166e-26)\n",
      "\n",
      "\n",
      "top_row, bottom_row, top_agl, bottom_agl: 1647.9993087999999 1842.9994751999998 (1.5707963267948966, 7.13172452345939e-31) (1.5707963267948966, -7.978248758217332e-30)\n",
      "\n",
      "\n",
      "top_row, bottom_row, top_agl, bottom_agl: 1654.0011904000003 1843.0013056000003 (1.5707963267948966, 1.3391240088744936e-34) (1.5707963267948966, -2.3973348382276136e-33)\n",
      "\n",
      "\n"
     ]
    }
   ],
   "source": [
    "target_id = 0\n",
    "\n",
    "for txt in dets_txts[:2]:\n",
    "    print(txt)\n",
    "    f = open(txt, 'r')\n",
    "    lines = f.readlines()\n",
    "#     print(lines)\n",
    "    lines = [line.replace(\" \\n\", \"\") for line in lines]\n",
    "#     print(lines)\n",
    "    objects_fileds = [line.split(' ') for line in lines]\n",
    "#     print(objects_fileds)\n",
    "\n",
    "    fov_h = math.pi/2\n",
    "\n",
    "    img_name = txt.replace(\".txt\", '.jpg')\n",
    "    img = Image.open(img_name)\n",
    "    \n",
    "    img_w, img_h = img.size\n",
    "#     print(img_w, img_h)\n",
    "    \n",
    "    for o in objects_fileds:\n",
    "        obj_id = int(o[0])\n",
    "        xywh = o[1:]\n",
    "        x, y, w, h = [float(n) for n in xywh]\n",
    "#     print(obj_id, x, y, w, h)\n",
    "        if obj_id == target_id:\n",
    "    \n",
    "            top_row = img_h * (y - h/2)\n",
    "            bottom_row = img_h * (y + h/2)\n",
    "            col = img_w * col\n",
    "            \n",
    "            top_agl = castesian_to_shperical(col, top_row, fov_h, img_h, img_w)\n",
    "            bottom_agl = castesian_to_shperical(col, bottom_row, fov_h, img_h, img_w)\n",
    "            \n",
    "            print(\"top_row, bottom_row, top_agl, bottom_agl:\", top_row, bottom_row, top_agl, bottom_agl)\n",
    "            print('\\n')\n",
    "        \n",
    "        \n",
    "    \n",
    "    \n",
    "    "
   ]
  },
  {
   "cell_type": "code",
   "execution_count": 5,
   "metadata": {},
   "outputs": [
    {
     "name": "stdout",
     "output_type": "stream",
     "text": [
      "fov_v, r, s: 1.5707963267948966 2048.0000000000005 2122.393224640524\n"
     ]
    },
    {
     "data": {
      "text/plain": [
       "(-0.26554954089837773, -0.024966621041549453)"
      ]
     },
     "execution_count": 5,
     "metadata": {},
     "output_type": "execute_result"
    }
   ],
   "source": [
    "import math\n",
    "\n",
    "col = 1491\n",
    "  \n",
    "row = 2101\n",
    "# row = 1856\n",
    "fov_h = math.pi/2\n",
    "height = 4096\n",
    "width = 4096\n",
    "castesian_to_shperical(col, row, fov_h, height, width)"
   ]
  }
 ],
 "metadata": {
  "kernelspec": {
   "display_name": "street_view",
   "language": "python",
   "name": "street_view"
  },
  "language_info": {
   "codemirror_mode": {
    "name": "ipython",
    "version": 3
   },
   "file_extension": ".py",
   "mimetype": "text/x-python",
   "name": "python",
   "nbconvert_exporter": "python",
   "pygments_lexer": "ipython3",
   "version": "3.8.2"
  },
  "toc": {
   "base_numbering": 1,
   "nav_menu": {},
   "number_sections": true,
   "sideBar": true,
   "skip_h1_title": false,
   "title_cell": "Table of Contents",
   "title_sidebar": "Contents",
   "toc_cell": false,
   "toc_position": {},
   "toc_section_display": true,
   "toc_window_display": false
  }
 },
 "nbformat": 4,
 "nbformat_minor": 2
}
